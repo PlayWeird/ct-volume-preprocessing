{
 "cells": [
  {
   "cell_type": "code",
   "execution_count": 8,
   "metadata": {
    "collapsed": true,
    "pycharm": {
     "name": "#%%\n"
    }
   },
   "outputs": [],
   "source": [
    "import torch\n",
    "import loss\n",
    "\n",
    "from volume_dataloader import CTDataSet, CTScanDataModule\n",
    "from unet import UNet\n",
    "DATA_PATH = '/media/gaetano/DATA/DATA_NIFTI_JAWS/'"
   ]
  },
  {
   "cell_type": "code",
   "source": [
    "dataset = CTDataSet(DATA_PATH)"
   ],
   "metadata": {
    "collapsed": false,
    "pycharm": {
     "name": "#%%\n"
    }
   },
   "execution_count": 9,
   "outputs": []
  },
  {
   "cell_type": "code",
   "execution_count": 10,
   "outputs": [
    {
     "name": "stdout",
     "output_type": "stream",
     "text": [
      "torch.Size([1, 1, 75, 75, 75])\n",
      "Out: torch.Size([1, 4, 75, 75, 75])\n",
      "Label: torch.Size([1, 4, 75, 75, 75])\n"
     ]
    }
   ],
   "source": [
    "model = UNet(in_channels=1,\n",
    "             out_channels=4,\n",
    "             n_blocks=4,\n",
    "             start_filters=32,\n",
    "             activation='relu',\n",
    "             normalization='batch',\n",
    "             conv_mode='same',\n",
    "             dim=3)\n",
    "\n",
    "x = dataset[8][0]\n",
    "x = torch.unsqueeze(x, 0)\n",
    "print(x.shape)\n",
    "out = model(x)\n",
    "print(f'Out: {out.shape}')\n",
    "print(f'Label: {dataset[0][1].shape}')"
   ],
   "metadata": {
    "collapsed": false,
    "pycharm": {
     "name": "#%%\n"
    }
   }
  },
  {
   "cell_type": "code",
   "execution_count": 23,
   "outputs": [
    {
     "data": {
      "text/plain": "tensor(0.)"
     },
     "execution_count": 23,
     "metadata": {},
     "output_type": "execute_result"
    }
   ],
   "source": [
    "tversky = loss.FocalTverskyLoss()\n",
    "alpha = 0.7\n",
    "beta = 0.3\n",
    "gamma = 3/4\n",
    "\n",
    "tversky(dataset[8][1], dataset[8][1], smooth=1, alpha=alpha, beta=beta, gamma=gamma)"
   ],
   "metadata": {
    "collapsed": false,
    "pycharm": {
     "name": "#%%\n"
    }
   }
  },
  {
   "cell_type": "code",
   "execution_count": 24,
   "outputs": [
    {
     "name": "stdout",
     "output_type": "stream",
     "text": [
      "[[0 0 1]\n",
      " [1 1 1]\n",
      " [1 0 0]\n",
      " [0 1 1]] [[1 1 0]\n",
      " [0 0 0]\n",
      " [0 1 1]\n",
      " [1 0 0]]\n"
     ]
    },
    {
     "data": {
      "text/plain": "tensor(0.8968)"
     },
     "execution_count": 24,
     "metadata": {},
     "output_type": "execute_result"
    }
   ],
   "source": [
    "x = torch.tensor([[0,0,1], [1,1,1], [1,0,0], [0,1,1]])\n",
    "y = torch.tensor([[1,1,0], [0,0,0], [0,1,1],[1,0,0]])\n",
    "print(x.numpy(), y.numpy())\n",
    "tversky(x, y, smooth=1, alpha=alpha, beta=beta, gamma=gamma)"
   ],
   "metadata": {
    "collapsed": false,
    "pycharm": {
     "name": "#%%\n"
    }
   }
  },
  {
   "cell_type": "code",
   "execution_count": null,
   "outputs": [],
   "source": [],
   "metadata": {
    "collapsed": false,
    "pycharm": {
     "name": "#%%\n"
    }
   }
  }
 ],
 "metadata": {
  "kernelspec": {
   "display_name": "Python 3",
   "language": "python",
   "name": "python3"
  },
  "language_info": {
   "codemirror_mode": {
    "name": "ipython",
    "version": 2
   },
   "file_extension": ".py",
   "mimetype": "text/x-python",
   "name": "python",
   "nbconvert_exporter": "python",
   "pygments_lexer": "ipython2",
   "version": "2.7.6"
  }
 },
 "nbformat": 4,
 "nbformat_minor": 0
}