{
 "cells": [
  {
   "cell_type": "code",
   "execution_count": 66,
   "metadata": {
    "collapsed": true
   },
   "outputs": [],
   "source": [
    "import yaml\n",
    "import wandb\n",
    "from volume_dataloader import CTScanDataModule\n",
    "from unet import UNet\n",
    "from pytorch_lightning.loggers import WandbLogger\n",
    "from pytorch_lightning import Trainer\n",
    "from pytorch_lightning.callbacks import ModelCheckpoint\n",
    "\n",
    "# wandb.login(relogin=True)\n",
    "\n",
    "DATA_PATH = '/media/gaetano/DATA/DATA_NIFTI_JAWS/'"
   ]
  },
  {
   "cell_type": "code",
   "execution_count": 67,
   "outputs": [],
   "source": [
    "# Create YAML to paste into wandb sweep\n",
    "sweep_config = {\n",
    "    # 'method': 'random'\n",
    "    'method': 'bayes'\n",
    "}\n",
    "\n",
    "metric = {\n",
    "    'name': 'val_loss',\n",
    "    'goal': 'minimize'\n",
    "}\n",
    "\n",
    "parameters_dict = {\n",
    "    'loss_alpha': {\n",
    "        'distribution': 'uniform',\n",
    "        'min': 1e-2,\n",
    "        'max': 1.0\n",
    "    },\n",
    "    'loss_gamma': {\n",
    "        'distribution': 'uniform',\n",
    "        'min': 1e-1,\n",
    "        'max': 3.0\n",
    "    },\n",
    "    'learning_rate': {\n",
    "        'distribution': 'uniform',\n",
    "        'min': 1e-5,\n",
    "        'max': 1e-2\n",
    "    },\n",
    "    'batch_size': {\n",
    "        'value': 5\n",
    "    },\n",
    "    'in_channels': {\n",
    "        'value': 1\n",
    "    },\n",
    "    'out_channels': {\n",
    "        'value': 4\n",
    "    },\n",
    "    'dim': {\n",
    "        'value': 3\n",
    "    },\n",
    "    'attention': {\n",
    "        'value': False\n",
    "    },\n",
    "    'max_epochs': {\n",
    "        'value': 50\n",
    "    }\n",
    "}\n",
    "\n",
    "sweep_config['metric'] = metric\n",
    "sweep_config['parameters'] = parameters_dict\n",
    "\n",
    "with open('/home/gaetano/PycharmProjects/ct-volume-preprocessing/wandb_config.yaml', 'w') as file:\n",
    "    documents = yaml.dump(sweep_config, file)"
   ],
   "metadata": {
    "collapsed": false,
    "pycharm": {
     "name": "#%%\n"
    }
   }
  },
  {
   "cell_type": "code",
   "execution_count": 68,
   "outputs": [],
   "source": [
    "def train(config=None):\n",
    "    with wandb.init(config=config): # project='utooth', entity='utooth'\n",
    "        config = wandb.config\n",
    "\n",
    "        data_loader = CTScanDataModule(DATA_PATH, batch_size=config.batch_size)\n",
    "        model = UNet(in_channels=config.in_channels,\n",
    "                     out_channels=config.out_channels,\n",
    "                     n_blocks=4,\n",
    "                     start_filters=32,\n",
    "                     activation='relu',\n",
    "                     normalization='batch',\n",
    "                     conv_mode='same',\n",
    "                     dim=config.dim,\n",
    "                     attention=config.attention,\n",
    "                     loss_alpha=config.loss_alpha,  # .7\n",
    "                     loss_gamma=config.loss_gamma, # 3/4\n",
    "                     learning_rate=config.learning_rate)\n",
    "        checkpoint = ModelCheckpoint(monitor='val_loss')\n",
    "        wandb.finish()\n",
    "        wandb_logger = WandbLogger() # project='utooth', entity='utooth'\n",
    "        trainer = Trainer(gpus=-1,\n",
    "                          log_every_n_steps=1,\n",
    "                          max_epochs=config.max_epochs,\n",
    "                          auto_lr_find=False,\n",
    "                          callbacks=[checkpoint],\n",
    "                          logger=wandb_logger)\n",
    "        trainer.fit(model, data_loader)"
   ],
   "metadata": {
    "collapsed": false,
    "pycharm": {
     "name": "#%%\n"
    }
   }
  },
  {
   "cell_type": "code",
   "execution_count": 69,
   "outputs": [],
   "source": [
    "# this creates a new sweep from the above config\n",
    "# sweep_id = wandb.sweep(sweep_config, project='utooth', entity=\"utooth\")"
   ],
   "metadata": {
    "collapsed": false,
    "pycharm": {
     "name": "#%%\n"
    }
   }
  },
  {
   "cell_type": "code",
   "execution_count": null,
   "outputs": [],
   "source": [
    "sweep_id_path = 'utooth/utooth/nx80ytvr' #'utooth/utooth/a8uyj71e'\n",
    "wandb.agent(sweep_id_path, train, count=50)"
   ],
   "metadata": {
    "collapsed": false,
    "pycharm": {
     "name": "#%%\n",
     "is_executing": true
    }
   }
  },
  {
   "cell_type": "code",
   "execution_count": null,
   "outputs": [],
   "source": [],
   "metadata": {
    "collapsed": false,
    "pycharm": {
     "name": "#%%\n"
    }
   }
  }
 ],
 "metadata": {
  "kernelspec": {
   "display_name": "Python 3",
   "language": "python",
   "name": "python3"
  },
  "language_info": {
   "codemirror_mode": {
    "name": "ipython",
    "version": 2
   },
   "file_extension": ".py",
   "mimetype": "text/x-python",
   "name": "python",
   "nbconvert_exporter": "python",
   "pygments_lexer": "ipython2",
   "version": "2.7.6"
  }
 },
 "nbformat": 4,
 "nbformat_minor": 0
}