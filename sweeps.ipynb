{
 "cells": [
  {
   "cell_type": "code",
   "execution_count": 6,
   "metadata": {
    "collapsed": true
   },
   "outputs": [],
   "source": [
    "import math\n",
    "import wandb\n",
    "from volume_dataloader import CTScanDataModule\n",
    "from unet import UNet\n",
    "from pytorch_lightning.loggers import WandbLogger\n",
    "from pytorch_lightning import Trainer\n",
    "from pytorch_lightning.callbacks import ModelCheckpoint\n",
    "\n",
    "wandb.login()\n",
    "\n",
    "DATA_PATH = '/media/gaetano/DATA/DATA_NIFTI_JAWS/'"
   ]
  },
  {
   "cell_type": "code",
   "execution_count": 7,
   "outputs": [],
   "source": [
    "sweep_config = {\n",
    "    'method': 'random'\n",
    "}\n",
    "\n",
    "metric = {\n",
    "    'name': 'val_loss',\n",
    "    'goal': 'minimize'\n",
    "}\n",
    "\n",
    "parameters_dict = {\n",
    "    'loss_alpha': {\n",
    "        'distribution': 'q_log_uniform',\n",
    "        'q': 1,\n",
    "        'min': math.log(1e-4),\n",
    "        'max': math.log(1.0)\n",
    "    },\n",
    "    'loss_gamma': {\n",
    "        'distribution': 'q_log_uniform',\n",
    "        'q': 1,\n",
    "        'min': math.log(1e-4),\n",
    "        'max': math.log(3.0)\n",
    "    },\n",
    "    'learning_rate': {\n",
    "        'distribution': 'q_log_uniform',\n",
    "        'q': 1,\n",
    "        'min': math.log(1e-5),\n",
    "        'max': math.log(1e-1)\n",
    "    },\n",
    "    'batch_size': {\n",
    "        'value': 5\n",
    "    },\n",
    "    'in_channels': {\n",
    "        'value': 1\n",
    "    },\n",
    "    'out_channels': {\n",
    "        'value': 4\n",
    "    },\n",
    "    'dim': {\n",
    "        'value': 3\n",
    "    },\n",
    "    'attention': {\n",
    "        'value': False\n",
    "    },\n",
    "    'max_epochs': {\n",
    "        'value': 50\n",
    "    }\n",
    "\n",
    "}\n",
    "\n",
    "sweep_config['metric'] = metric\n",
    "sweep_config['parameters'] = parameters_dict"
   ],
   "metadata": {
    "collapsed": false,
    "pycharm": {
     "name": "#%%\n"
    }
   }
  },
  {
   "cell_type": "code",
   "execution_count": 8,
   "outputs": [],
   "source": [
    "def train(config=None):\n",
    "    with wandb.init(config=config):\n",
    "        config = wandb.config\n",
    "\n",
    "        data_loader = CTScanDataModule(DATA_PATH, batch_size=config.batch_size)\n",
    "        model = UNet(in_channels=config.in_channels,\n",
    "                     out_channels=config.out_channels,\n",
    "                     n_blocks=4,\n",
    "                     start_filters=32,\n",
    "                     activation='relu',\n",
    "                     normalization='batch',\n",
    "                     conv_mode='same',\n",
    "                     dim=config.dim,\n",
    "                     attention=config.attention,\n",
    "                     loss_alpha=config.loss_alpha,  # .7\n",
    "                     loss_gamma=config.loss_gamma, # 3/4\n",
    "                     learning_rate=config.learning_rate)\n",
    "        checkpoint = ModelCheckpoint(monitor='val_loss')\n",
    "        wandb_logger = WandbLogger()\n",
    "        trainer = Trainer(gpus=-1,\n",
    "                          log_every_n_steps=1,\n",
    "                          max_epochs=config.max_epochs,\n",
    "                          auto_lr_find=False,\n",
    "                          callbacks=[checkpoint],\n",
    "                          logger=wandb_logger)\n",
    "        trainer.fit(model, data_loader)"
   ],
   "metadata": {
    "collapsed": false,
    "pycharm": {
     "name": "#%%\n"
    }
   }
  },
  {
   "cell_type": "code",
   "execution_count": 9,
   "outputs": [
    {
     "name": "stdout",
     "output_type": "stream",
     "text": [
      "Create sweep with ID: up1hd729\n",
      "Sweep URL: https://wandb.ai/playweird/ct-volume-preprocessing/sweeps/up1hd729\n"
     ]
    }
   ],
   "source": [
    "sweep_id = wandb.sweep(sweep_config, project=\"ct-volume-preprocessing\")"
   ],
   "metadata": {
    "collapsed": false,
    "pycharm": {
     "name": "#%%\n"
    }
   }
  },
  {
   "cell_type": "code",
   "execution_count": null,
   "outputs": [
    {
     "name": "stderr",
     "output_type": "stream",
     "text": [
      "\u001B[34m\u001B[1mwandb\u001B[0m: Agent Starting Run: 0e4owwbx with config:\n",
      "\u001B[34m\u001B[1mwandb\u001B[0m: \tattention: False\n",
      "\u001B[34m\u001B[1mwandb\u001B[0m: \tbatch_size: 5\n",
      "\u001B[34m\u001B[1mwandb\u001B[0m: \tdim: 3\n",
      "\u001B[34m\u001B[1mwandb\u001B[0m: \tin_channels: 1\n",
      "\u001B[34m\u001B[1mwandb\u001B[0m: \tlearning_rate: 0\n",
      "\u001B[34m\u001B[1mwandb\u001B[0m: \tloss_alpha: 0\n",
      "\u001B[34m\u001B[1mwandb\u001B[0m: \tloss_gamma: 1\n",
      "\u001B[34m\u001B[1mwandb\u001B[0m: \tmax_epochs: 50\n",
      "\u001B[34m\u001B[1mwandb\u001B[0m: \tout_channels: 4\n"
     ]
    },
    {
     "data": {
      "text/plain": "<IPython.core.display.HTML object>",
      "text/html": "\n                    Syncing run <strong><a href=\"https://wandb.ai/playweird/ct-volume-preprocessing/runs/0e4owwbx\" target=\"_blank\">likely-sweep-1</a></strong> to <a href=\"https://wandb.ai/playweird/ct-volume-preprocessing\" target=\"_blank\">Weights & Biases</a> (<a href=\"https://docs.wandb.com/integrations/jupyter.html\" target=\"_blank\">docs</a>).<br/>\nSweep page: <a href=\"https://wandb.ai/playweird/ct-volume-preprocessing/sweeps/up1hd729\" target=\"_blank\">https://wandb.ai/playweird/ct-volume-preprocessing/sweeps/up1hd729</a><br/>\n\n                "
     },
     "metadata": {},
     "output_type": "display_data"
    },
    {
     "name": "stderr",
     "output_type": "stream",
     "text": [
      "GPU available: True, used: True\n",
      "TPU available: False, using: 0 TPU cores\n",
      "IPU available: False, using: 0 IPUs\n",
      "LOCAL_RANK: 0 - CUDA_VISIBLE_DEVICES: [0]\n",
      "/home/gaetano/PycharmProjects/ct-volume-preprocessing/venv/lib/python3.6/site-packages/pytorch_lightning/loggers/wandb.py:342: UserWarning: There is a wandb run already in progress and newly created instances of `WandbLogger` will reuse this run. If this is not desired, call `wandb.finish()` before instantiating `WandbLogger`.\n",
      "  \"There is a wandb run already in progress and newly created instances of `WandbLogger` will reuse\"\n",
      "\u001B[34m\u001B[1mwandb\u001B[0m: \u001B[33mWARNING\u001B[0m Config item 'in_channels' was locked by 'sweep' (ignored update).\n",
      "\u001B[34m\u001B[1mwandb\u001B[0m: \u001B[33mWARNING\u001B[0m Config item 'out_channels' was locked by 'sweep' (ignored update).\n",
      "\u001B[34m\u001B[1mwandb\u001B[0m: \u001B[33mWARNING\u001B[0m Config item 'attention' was locked by 'sweep' (ignored update).\n",
      "\u001B[34m\u001B[1mwandb\u001B[0m: \u001B[33mWARNING\u001B[0m Config item 'dim' was locked by 'sweep' (ignored update).\n",
      "\u001B[34m\u001B[1mwandb\u001B[0m: \u001B[33mWARNING\u001B[0m Config item 'loss_alpha' was locked by 'sweep' (ignored update).\n",
      "\u001B[34m\u001B[1mwandb\u001B[0m: \u001B[33mWARNING\u001B[0m Config item 'loss_gamma' was locked by 'sweep' (ignored update).\n",
      "\u001B[34m\u001B[1mwandb\u001B[0m: \u001B[33mWARNING\u001B[0m Config item 'learning_rate' was locked by 'sweep' (ignored update).\n",
      "\n",
      "  | Name       | Type       | Params\n",
      "------------------------------------------\n",
      "0 | down_convs | ModuleList | 3.5 M \n",
      "1 | up_convs   | ModuleList | 2.1 M \n",
      "2 | conv_final | Conv3d     | 132   \n",
      "------------------------------------------\n",
      "5.6 M     Trainable params\n",
      "0         Non-trainable params\n",
      "5.6 M     Total params\n",
      "22.412    Total estimated model params size (MB)\n"
     ]
    },
    {
     "data": {
      "text/plain": "Validation sanity check: 0it [00:00, ?it/s]",
      "application/vnd.jupyter.widget-view+json": {
       "version_major": 2,
       "version_minor": 0,
       "model_id": "dfdd074f5e594dc58f158438dec73143"
      }
     },
     "metadata": {},
     "output_type": "display_data"
    },
    {
     "data": {
      "text/plain": "Training: 0it [00:00, ?it/s]",
      "application/vnd.jupyter.widget-view+json": {
       "version_major": 2,
       "version_minor": 0,
       "model_id": "3106d263b93642cebdac4921c96c5625"
      }
     },
     "metadata": {},
     "output_type": "display_data"
    },
    {
     "data": {
      "text/plain": "Validating: 0it [00:00, ?it/s]",
      "application/vnd.jupyter.widget-view+json": {
       "version_major": 2,
       "version_minor": 0,
       "model_id": "0bb302288d934eff862eb1896d188e43"
      }
     },
     "metadata": {},
     "output_type": "display_data"
    },
    {
     "data": {
      "text/plain": "Validating: 0it [00:00, ?it/s]",
      "application/vnd.jupyter.widget-view+json": {
       "version_major": 2,
       "version_minor": 0,
       "model_id": "769d5b2342f44709a52a2a929f002455"
      }
     },
     "metadata": {},
     "output_type": "display_data"
    },
    {
     "data": {
      "text/plain": "Validating: 0it [00:00, ?it/s]",
      "application/vnd.jupyter.widget-view+json": {
       "version_major": 2,
       "version_minor": 0,
       "model_id": "23f04526e9ff4fac8ddc8d186c89a1b7"
      }
     },
     "metadata": {},
     "output_type": "display_data"
    },
    {
     "data": {
      "text/plain": "Validating: 0it [00:00, ?it/s]",
      "application/vnd.jupyter.widget-view+json": {
       "version_major": 2,
       "version_minor": 0,
       "model_id": "c1f7487d8f714b7c972c6dc3fe150bb4"
      }
     },
     "metadata": {},
     "output_type": "display_data"
    },
    {
     "data": {
      "text/plain": "Validating: 0it [00:00, ?it/s]",
      "application/vnd.jupyter.widget-view+json": {
       "version_major": 2,
       "version_minor": 0,
       "model_id": "c1593047fd874a4daa407fdb6e9a6229"
      }
     },
     "metadata": {},
     "output_type": "display_data"
    },
    {
     "data": {
      "text/plain": "Validating: 0it [00:00, ?it/s]",
      "application/vnd.jupyter.widget-view+json": {
       "version_major": 2,
       "version_minor": 0,
       "model_id": "3cbd2866765a430b985d579bf24e9134"
      }
     },
     "metadata": {},
     "output_type": "display_data"
    },
    {
     "data": {
      "text/plain": "Validating: 0it [00:00, ?it/s]",
      "application/vnd.jupyter.widget-view+json": {
       "version_major": 2,
       "version_minor": 0,
       "model_id": "65a4576f9949456fbae25c35bc459093"
      }
     },
     "metadata": {},
     "output_type": "display_data"
    },
    {
     "data": {
      "text/plain": "Validating: 0it [00:00, ?it/s]",
      "application/vnd.jupyter.widget-view+json": {
       "version_major": 2,
       "version_minor": 0,
       "model_id": "4a21fd9d6fb341e19cf7ac7aaf1826e8"
      }
     },
     "metadata": {},
     "output_type": "display_data"
    },
    {
     "data": {
      "text/plain": "Validating: 0it [00:00, ?it/s]",
      "application/vnd.jupyter.widget-view+json": {
       "version_major": 2,
       "version_minor": 0,
       "model_id": "54defbebf64e4be69419baed8ebb457a"
      }
     },
     "metadata": {},
     "output_type": "display_data"
    },
    {
     "data": {
      "text/plain": "Validating: 0it [00:00, ?it/s]",
      "application/vnd.jupyter.widget-view+json": {
       "version_major": 2,
       "version_minor": 0,
       "model_id": "ff594dcb60b34103b48ea769efd1412a"
      }
     },
     "metadata": {},
     "output_type": "display_data"
    },
    {
     "data": {
      "text/plain": "Validating: 0it [00:00, ?it/s]",
      "application/vnd.jupyter.widget-view+json": {
       "version_major": 2,
       "version_minor": 0,
       "model_id": "0837352e5552461480022761341ee21b"
      }
     },
     "metadata": {},
     "output_type": "display_data"
    },
    {
     "data": {
      "text/plain": "Validating: 0it [00:00, ?it/s]",
      "application/vnd.jupyter.widget-view+json": {
       "version_major": 2,
       "version_minor": 0,
       "model_id": "ce541c0958d240428af35c0d9c50efbb"
      }
     },
     "metadata": {},
     "output_type": "display_data"
    },
    {
     "data": {
      "text/plain": "Validating: 0it [00:00, ?it/s]",
      "application/vnd.jupyter.widget-view+json": {
       "version_major": 2,
       "version_minor": 0,
       "model_id": "94600ff426364b3b91347686083f404a"
      }
     },
     "metadata": {},
     "output_type": "display_data"
    },
    {
     "data": {
      "text/plain": "Validating: 0it [00:00, ?it/s]",
      "application/vnd.jupyter.widget-view+json": {
       "version_major": 2,
       "version_minor": 0,
       "model_id": "1797de7a145a4ac68768986556f2fbb3"
      }
     },
     "metadata": {},
     "output_type": "display_data"
    },
    {
     "data": {
      "text/plain": "Validating: 0it [00:00, ?it/s]",
      "application/vnd.jupyter.widget-view+json": {
       "version_major": 2,
       "version_minor": 0,
       "model_id": "9e3f2f62a0424af3ace4dcd5598c2bbd"
      }
     },
     "metadata": {},
     "output_type": "display_data"
    },
    {
     "data": {
      "text/plain": "Validating: 0it [00:00, ?it/s]",
      "application/vnd.jupyter.widget-view+json": {
       "version_major": 2,
       "version_minor": 0,
       "model_id": "a2c4dfbfc8154ab89a1117dfd0c9ef76"
      }
     },
     "metadata": {},
     "output_type": "display_data"
    }
   ],
   "source": [
    "wandb.agent(sweep_id, train, count=2)"
   ],
   "metadata": {
    "collapsed": false,
    "pycharm": {
     "name": "#%%\n",
     "is_executing": true
    }
   }
  },
  {
   "cell_type": "code",
   "execution_count": null,
   "outputs": [],
   "source": [],
   "metadata": {
    "collapsed": false,
    "pycharm": {
     "name": "#%%\n"
    }
   }
  }
 ],
 "metadata": {
  "kernelspec": {
   "display_name": "Python 3",
   "language": "python",
   "name": "python3"
  },
  "language_info": {
   "codemirror_mode": {
    "name": "ipython",
    "version": 2
   },
   "file_extension": ".py",
   "mimetype": "text/x-python",
   "name": "python",
   "nbconvert_exporter": "python",
   "pygments_lexer": "ipython2",
   "version": "2.7.6"
  }
 },
 "nbformat": 4,
 "nbformat_minor": 0
}