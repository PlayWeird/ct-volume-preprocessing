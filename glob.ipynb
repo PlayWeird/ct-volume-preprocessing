{
 "cells": [
  {
   "cell_type": "code",
   "execution_count": 5,
   "metadata": {
    "collapsed": true
   },
   "outputs": [],
   "source": [
    "import glob\n",
    "import os\n",
    "import shutil"
   ]
  },
  {
   "cell_type": "code",
   "execution_count": 23,
   "outputs": [
    {
     "name": "stdout",
     "output_type": "stream",
     "text": [
      "Found Count: 56 / 2294\r"
     ]
    }
   ],
   "source": [
    "paths_to_samples = []\n",
    "found_count = 1\n",
    "total_count = 1\n",
    "INPUT_FOLDER = '/media/gaetano/My Passport/Dicom_DATA/'\n",
    "folder_names = ['THIN_ST_HEAD', 'THIN_S.T._HEAD']\n",
    "for root, dir, filelist in os.walk(INPUT_FOLDER, topdown=True):\n",
    "    for name in dir:\n",
    "        for folder_name in folder_names:\n",
    "            if name == folder_name:\n",
    "                paths_to_samples.append(os.path.join(root, name + '/'))\n",
    "                print(f'Found Count: {found_count} / {total_count}', end=\"\\r\")\n",
    "                found_count += 1\n",
    "        total_count += 1"
   ],
   "metadata": {
    "collapsed": false,
    "pycharm": {
     "name": "#%%\n"
    }
   }
  },
  {
   "cell_type": "code",
   "execution_count": 24,
   "outputs": [],
   "source": [
    "files = glob.glob('/media/gaetano/My Passport/Dicom_DATA/case*/*/*/*', recursive=True)"
   ],
   "metadata": {
    "collapsed": false,
    "pycharm": {
     "name": "#%%\n"
    }
   }
  },
  {
   "cell_type": "code",
   "execution_count": 25,
   "outputs": [
    {
     "data": {
      "text/plain": "71"
     },
     "execution_count": 25,
     "metadata": {},
     "output_type": "execute_result"
    }
   ],
   "source": [
    "len(files)"
   ],
   "metadata": {
    "collapsed": false,
    "pycharm": {
     "name": "#%%\n"
    }
   }
  },
  {
   "cell_type": "code",
   "execution_count": 26,
   "outputs": [
    {
     "data": {
      "text/plain": "'/media/gaetano/My Passport/Dicom_DATA/case-185130/omi/incomingdir/case-185130'"
     },
     "execution_count": 26,
     "metadata": {},
     "output_type": "execute_result"
    }
   ],
   "source": [
    "files[0]"
   ],
   "metadata": {
    "collapsed": false,
    "pycharm": {
     "name": "#%%\n"
    }
   }
  },
  {
   "cell_type": "code",
   "execution_count": 27,
   "outputs": [
    {
     "data": {
      "text/plain": "'/media/gaetano/My Passport/Dicom_DATA/case-185130/THIN_ST_HEAD'"
     },
     "execution_count": 27,
     "metadata": {},
     "output_type": "execute_result"
    }
   ],
   "source": [
    "'/' + os.path.join(*paths_to_samples[0].split('/')[:6]) + '/THIN_ST_HEAD'"
   ],
   "metadata": {
    "collapsed": false,
    "pycharm": {
     "name": "#%%\n"
    }
   }
  },
  {
   "cell_type": "code",
   "execution_count": 35,
   "outputs": [
    {
     "data": {
      "text/plain": "'/media/gaetano/My Passport/DATA_CT_HEADS/case-185130/THIN_ST_HEAD'"
     },
     "execution_count": 35,
     "metadata": {},
     "output_type": "execute_result"
    }
   ],
   "source": [
    "shutil.copytree(paths_to_samples[0], '/media/gaetano/My Passport/DATA_CT_HEADS/' + paths_to_samples[0].split('/')[-7] + '/THIN_ST_HEAD')"
   ],
   "metadata": {
    "collapsed": false,
    "pycharm": {
     "name": "#%%\n"
    }
   }
  },
  {
   "cell_type": "code",
   "execution_count": 30,
   "outputs": [
    {
     "data": {
      "text/plain": "'THIN_S.T._HEAD'"
     },
     "execution_count": 30,
     "metadata": {},
     "output_type": "execute_result"
    }
   ],
   "source": [
    "paths_to_samples[0].split('/')[-2]"
   ],
   "metadata": {
    "collapsed": false,
    "pycharm": {
     "name": "#%%\n"
    }
   }
  },
  {
   "cell_type": "code",
   "execution_count": 36,
   "outputs": [],
   "source": [
    "#replace DATA_PATH and run\n",
    "DATA_PATH = '/media/gaetano/My Passport/DATA_CT_HEADS/'\n",
    "for file in paths_to_samples:\n",
    "    shutil.copytree(file, DATA_PATH + file.split('/')[-7] + '/THIN_ST_HEAD')"
   ],
   "metadata": {
    "collapsed": false,
    "pycharm": {
     "name": "#%%\n"
    }
   }
  },
  {
   "cell_type": "code",
   "execution_count": null,
   "outputs": [],
   "source": [],
   "metadata": {
    "collapsed": false,
    "pycharm": {
     "name": "#%%\n"
    }
   }
  }
 ],
 "metadata": {
  "kernelspec": {
   "display_name": "Python 3",
   "language": "python",
   "name": "python3"
  },
  "language_info": {
   "codemirror_mode": {
    "name": "ipython",
    "version": 2
   },
   "file_extension": ".py",
   "mimetype": "text/x-python",
   "name": "python",
   "nbconvert_exporter": "python",
   "pygments_lexer": "ipython2",
   "version": "2.7.6"
  }
 },
 "nbformat": 4,
 "nbformat_minor": 0
}